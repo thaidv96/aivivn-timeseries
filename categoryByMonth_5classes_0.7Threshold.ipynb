{
 "cells": [
  {
   "cell_type": "code",
   "execution_count": 0,
   "metadata": {
    "colab": {
     "base_uri": "https://localhost:8080/",
     "height": 71
    },
    "colab_type": "code",
    "id": "VPcbPx4Ef_Og",
    "outputId": "e555ef35-24a7-4fc4-e3a9-7181690a8630"
   },
   "outputs": [
    {
     "name": "stdout",
     "output_type": "stream",
     "text": [
      "Updating fastai...\n",
      "Done.\n",
      "Drive already mounted at /content/drive; to attempt to forcibly remount, call drive.mount(\"/content/drive\", force_remount=True).\n"
     ]
    }
   ],
   "source": [
    "!curl -s https://course.fast.ai/setup/colab | bash\n",
    "    \n",
    "%reload_ext autoreload\n",
    "%autoreload 2\n",
    "%matplotlib inline\n",
    "\n",
    "from fastai.tabular import *\n",
    "\n",
    "\n",
    "from google.colab import drive\n",
    "\n",
    "drive.mount(\"/content/drive\")\n",
    "path = Path('/content/drive/My Drive/Competitions/Timeseries')"
   ]
  },
  {
   "cell_type": "code",
   "execution_count": 0,
   "metadata": {
    "colab": {},
    "colab_type": "code",
    "id": "4tCaGMlIhQPS"
   },
   "outputs": [],
   "source": [
    "# !unzip '/content/drive/My Drive/Competitions/Timeseries/datasets/aivivn_timeseries.zip' -d '/content/drive/My Drive/Competitions/Timeseries/datasets'"
   ]
  },
  {
   "cell_type": "code",
   "execution_count": 0,
   "metadata": {
    "colab": {},
    "colab_type": "code",
    "id": "qLVEAmBEMi-R"
   },
   "outputs": [],
   "source": [
    "tet_holidays = {'2018':{'start':'2018-02-11', \n",
    "                        'end':'2018-02-24'},\n",
    "                '2019':{'start':'2019-01-31',\n",
    "                        'end':'2019-02-14'\n",
    "                       }\n",
    "               }"
   ]
  },
  {
   "cell_type": "code",
   "execution_count": 0,
   "metadata": {
    "colab": {},
    "colab_type": "code",
    "id": "GiiLANaGYBB6"
   },
   "outputs": [],
   "source": [
    "train_df = pd.read_csv(path/'datasets/train.csv')"
   ]
  },
  {
   "cell_type": "code",
   "execution_count": 0,
   "metadata": {
    "colab": {},
    "colab_type": "code",
    "id": "8W6-QEUtbuht"
   },
   "outputs": [],
   "source": [
    "train_df = train_df[train_df.SERVER_NAME != 'SERVER_ZONE02_085']"
   ]
  },
  {
   "cell_type": "code",
   "execution_count": 0,
   "metadata": {
    "colab": {},
    "colab_type": "code",
    "id": "SmSveizMXa5i"
   },
   "outputs": [],
   "source": [
    "def gen_statistic_col(df, target, groupby):\n",
    "    statistics = ['mean','median','min','max','count','std']\n",
    "    res = df.groupby(groupby).agg({target:statistics}).reset_index()\n",
    "    res.columns = [*groupby, *[f'{i}_{target}' for i in statistics]]\n",
    "    return res\n"
   ]
  },
  {
   "cell_type": "code",
   "execution_count": 0,
   "metadata": {
    "colab": {},
    "colab_type": "code",
    "id": "pzRjURmFnlAx"
   },
   "outputs": [],
   "source": [
    "bandwidth_by_server = gen_statistic_col(train_df, 'BANDWIDTH_TOTAL',['SERVER_NAME'])\n",
    "bandwidth_by_server_hour = gen_statistic_col(train_df, 'BANDWIDTH_TOTAL',['SERVER_NAME', \"HOUR_ID\"])"
   ]
  },
  {
   "cell_type": "code",
   "execution_count": 0,
   "metadata": {
    "colab": {},
    "colab_type": "code",
    "id": "AHwRtwvsuKah"
   },
   "outputs": [],
   "source": [
    "user_by_server = gen_statistic_col(train_df, 'MAX_USER',['SERVER_NAME'])\n",
    "user_by_server_hour = gen_statistic_col(train_df, 'MAX_USER',['SERVER_NAME', \"HOUR_ID\"])"
   ]
  },
  {
   "cell_type": "code",
   "execution_count": 0,
   "metadata": {
    "colab": {},
    "colab_type": "code",
    "id": "Ot3MHShT9xwx"
   },
   "outputs": [],
   "source": [
    "del train_df"
   ]
  },
  {
   "cell_type": "code",
   "execution_count": 0,
   "metadata": {
    "colab": {},
    "colab_type": "code",
    "id": "70F7Et74MoO6"
   },
   "outputs": [],
   "source": [
    "def prepare_data(path, is_train = True):\n",
    "    df = pd.read_csv(path)\n",
    "    if is_train:\n",
    "        df = df[(df.MAX_USER != 0)]\n",
    "        df = df[df.SERVER_NAME != 'SERVER_ZONE02_085']\n",
    "        df['MAX_USER'] = df['MAX_USER']/51\n",
    "#         df.BANDWIDTH_TOTAL = 1/df.BANDWIDTH_TOTAL**2\n",
    "    num_active_server = df.groupby(['UPDATE_TIME','HOUR_ID']).SERVER_NAME.nunique().reset_index()\n",
    "    num_active_server.columns = ['UPDATE_TIME','HOUR_ID','NUM_ACTIVE_SERVER']\n",
    "    num_active_zone = df.groupby(['UPDATE_TIME','HOUR_ID']).ZONE_CODE.nunique().reset_index()\n",
    "    num_active_zone.columns = ['UPDATE_TIME','HOUR_ID','NUM_ACTIVE_ZONE']        \n",
    "    \n",
    "    df = pd.merge(df, num_active_server, on = ['UPDATE_TIME','HOUR_ID'])\n",
    "    df = pd.merge(df, num_active_zone, on = ['UPDATE_TIME','HOUR_ID'])\n",
    "    df = pd.merge(df, bandwidth_by_server, on = ['SERVER_NAME'])\n",
    "    df = pd.merge(df, bandwidth_by_server_hour, on = ['SERVER_NAME','HOUR_ID'])\n",
    "    df = pd.merge(df, user_by_server, on = ['SERVER_NAME'])\n",
    "    df = pd.merge(df, user_by_server_hour, on = ['SERVER_NAME','HOUR_ID'])\n",
    "    df = df.sort_values(by = ['UPDATE_TIME','HOUR_ID'])\n",
    "    df = add_datepart(df, 'UPDATE_TIME', drop= False)\n",
    "    df['IS_TET'] = (((pd.to_datetime(df.UPDATE_TIME) > pd.to_datetime(tet_holidays['2018']['start'])) \n",
    "                   &(pd.to_datetime(df.UPDATE_TIME) < pd.to_datetime(tet_holidays['2018']['end'])))\n",
    "                   |((pd.to_datetime(df.UPDATE_TIME) > pd.to_datetime(tet_holidays['2019']['start'])) \n",
    "                   &(pd.to_datetime(df.UPDATE_TIME) < pd.to_datetime(tet_holidays['2019']['end'])))\n",
    "                  )\n",
    "    df = df[df.IS_TET == False]\n",
    "    df.reset_index(inplace=True)\n",
    "    del df['index']\n",
    "    return df"
   ]
  },
  {
   "cell_type": "code",
   "execution_count": 0,
   "metadata": {
    "colab": {},
    "colab_type": "code",
    "id": "OTc4pfqcJQAr"
   },
   "outputs": [],
   "source": [
    "train = prepare_data(path/'datasets/train.csv')\n",
    "test_df = prepare_data(path/'datasets/test_id.csv', is_train = False)\n",
    "del bandwidth_by_server_hour\n",
    "del bandwidth_by_server\n",
    "del user_by_server\n",
    "del user_by_server_hour"
   ]
  },
  {
   "cell_type": "code",
   "execution_count": 0,
   "metadata": {
    "colab": {},
    "colab_type": "code",
    "id": "TRyPsvpvhdD-"
   },
   "outputs": [],
   "source": [
    "bandwidth_total = train[train.BANDWIDTH_TOTAL > 0].BANDWIDTH_TOTAL.values"
   ]
  },
  {
   "cell_type": "code",
   "execution_count": 0,
   "metadata": {
    "colab": {},
    "colab_type": "code",
    "id": "AZpdbzLLiYwQ"
   },
   "outputs": [],
   "source": [
    "def mape(pred, targ):\n",
    "    dev = np.abs(pred - targ)/targ\n",
    "    res = np.mean(dev)*100\n",
    "    return res\n",
    "\n",
    "from scipy.optimize import minimize\n",
    "\n",
    "def find_optimal_mape(start_val,range1):\n",
    "    mape_ = partial(mape,targ = range1)\n",
    "    optimal = minimize(mape_, start_val)    \n",
    "    return optimal['x'][0]"
   ]
  },
  {
   "cell_type": "code",
   "execution_count": 0,
   "metadata": {
    "colab": {},
    "colab_type": "code",
    "id": "eCaXhDn2YL9Q"
   },
   "outputs": [],
   "source": [
    "def encode_range(value):\n",
    "    global threshold\n",
    "    for i in range(len(threshold)):\n",
    "        if value >= threshold[i]:\n",
    "            return i\n",
    "encode_range = np.vectorize(encode_range)\n",
    "   "
   ]
  },
  {
   "cell_type": "code",
   "execution_count": 0,
   "metadata": {
    "colab": {},
    "colab_type": "code",
    "id": "eifkK5djNEPl"
   },
   "outputs": [],
   "source": [
    "threshold = []\n",
    "def target_encode(df, target_col, num_classes):\n",
    "    ## Gen threshold:\n",
    "    global threshold\n",
    "    threshold= []\n",
    "    step_size = 100/num_classes\n",
    "    for i in range(num_classes):\n",
    "        t = np.percentile(df[target_col],(i)*step_size)\n",
    "        threshold = [t] + threshold\n",
    "    df['target_encoded'] = encode_range(df[target_col])\n",
    "    return df\n",
    "    \n",
    "    "
   ]
  },
  {
   "cell_type": "code",
   "execution_count": 0,
   "metadata": {
    "colab": {},
    "colab_type": "code",
    "id": "ADam3aGojOz0"
   },
   "outputs": [],
   "source": [
    "train = target_encode(train, 'BANDWIDTH_TOTAL', 5)\n",
    "optimals = []\n",
    "for i in range(len(threshold)):\n",
    "    if i == 0:\n",
    "        range1 = bandwidth_total[bandwidth_total > threshold[i]]\n",
    "    else:\n",
    "        range1 = bandwidth_total[(bandwidth_total < threshold[i-1])&(bandwidth_total > threshold[i])]\n",
    "    start_val = threshold[i]\n",
    "    opt = find_optimal_mape(start_val, range1)\n",
    "    optimals.append(opt)\n",
    "    del range1\n",
    "\n"
   ]
  },
  {
   "cell_type": "code",
   "execution_count": 0,
   "metadata": {
    "colab": {},
    "colab_type": "code",
    "id": "x06ci15lDWgD"
   },
   "outputs": [],
   "source": [
    "cont_vars = ['NUM_ACTIVE_SERVER', 'NUM_ACTIVE_ZONE','UPDATE_TIMEElapsed',\n",
    "             *[f'{i}_BANDWIDTH_TOTAL_x' for i in ['mean','median','min','max','count','std']],\n",
    "             *[f'{i}_BANDWIDTH_TOTAL_y' for i in ['mean','median','min','max','count','std']],\n",
    "             *[f'{i}_MAX_USER_x' for i in ['mean','median','min','max','count','std']],\n",
    "             *[f'{i}_MAX_USER_y' for i in ['mean','median','min','max','count','std']],\n",
    "            ]\n",
    "cat_vars = ['HOUR_ID', 'ZONE_CODE','SERVER_NAME','UPDATE_TIMEYear','UPDATE_TIMEMonth','UPDATE_TIMEWeek','UPDATE_TIMEDay','UPDATE_TIMEDayofweek']\n",
    "dep_var = 'target_encoded'\n",
    "\n",
    "procs=[FillMissing, Categorify, Normalize]\n"
   ]
  },
  {
   "cell_type": "code",
   "execution_count": 0,
   "metadata": {
    "colab": {
     "base_uri": "https://localhost:8080/",
     "height": 73
    },
    "colab_type": "code",
    "id": "EuZ28MB9g9-G",
    "outputId": "22ce6d62-4889-42ae-cbe7-209894829ac3"
   },
   "outputs": [
    {
     "name": "stdout",
     "output_type": "stream",
     "text": [
      "['HOUR_ID', 'ZONE_CODE', 'SERVER_NAME', 'UPDATE_TIMEYear', 'UPDATE_TIMEMonth', 'UPDATE_TIMEWeek', 'UPDATE_TIMEDay', 'UPDATE_TIMEDayofweek']\n",
      "['NUM_ACTIVE_SERVER', 'NUM_ACTIVE_ZONE', 'UPDATE_TIMEElapsed', 'mean_BANDWIDTH_TOTAL_x', 'median_BANDWIDTH_TOTAL_x', 'min_BANDWIDTH_TOTAL_x', 'max_BANDWIDTH_TOTAL_x', 'count_BANDWIDTH_TOTAL_x', 'std_BANDWIDTH_TOTAL_x', 'mean_BANDWIDTH_TOTAL_y', 'median_BANDWIDTH_TOTAL_y', 'min_BANDWIDTH_TOTAL_y', 'max_BANDWIDTH_TOTAL_y', 'count_BANDWIDTH_TOTAL_y', 'std_BANDWIDTH_TOTAL_y', 'mean_MAX_USER_x', 'median_MAX_USER_x', 'min_MAX_USER_x', 'max_MAX_USER_x', 'count_MAX_USER_x', 'std_MAX_USER_x', 'mean_MAX_USER_y', 'median_MAX_USER_y', 'min_MAX_USER_y', 'max_MAX_USER_y', 'count_MAX_USER_y', 'std_MAX_USER_y']\n"
     ]
    }
   ],
   "source": [
    "print(cat_vars)\n",
    "print(cont_vars)"
   ]
  },
  {
   "cell_type": "code",
   "execution_count": 0,
   "metadata": {
    "colab": {},
    "colab_type": "code",
    "id": "YPuFjpEOIPkh"
   },
   "outputs": [],
   "source": [
    "cut_idx = min(train[train.UPDATE_TIME > '2019-01-09'].index )\n",
    "\n",
    "valid_idx = range(cut_idx, train.shape[0])"
   ]
  },
  {
   "cell_type": "code",
   "execution_count": 0,
   "metadata": {
    "colab": {},
    "colab_type": "code",
    "id": "7LwU8X-ZIt0g"
   },
   "outputs": [],
   "source": [
    "def inverse_exp_mape(pred:Tensor, targ:Tensor)->Rank0Tensor:\n",
    "    \"Exp MAPE between `pred` and `targ`.\"\n",
    "    pred,targ = flatten_check(pred,targ)\n",
    "    pred, targ = torch.exp(pred), torch.exp(targ)\n",
    "    pct_var = torch.abs(torch.sqrt(1/targ) - torch.sqrt(1/pred))*torch.sqrt(targ)\n",
    "    return pct_var.mean()*100"
   ]
  },
  {
   "cell_type": "code",
   "execution_count": 0,
   "metadata": {
    "colab": {},
    "colab_type": "code",
    "id": "yUyZYpyoMThs"
   },
   "outputs": [],
   "source": [
    "def exp_mape(pred:Tensor, targ:Tensor)->Rank0Tensor:\n",
    "    \"Exp MAPE between `pred` and `targ`.\"\n",
    "    pred,targ = flatten_check(pred,targ)\n",
    "    pred, targ = torch.exp(pred), torch.exp(targ)\n",
    "    pct_var = torch.abs(targ - pred)/targ\n",
    "    return pct_var.mean()*100"
   ]
  },
  {
   "cell_type": "code",
   "execution_count": 0,
   "metadata": {
    "colab": {},
    "colab_type": "code",
    "id": "FNaiLl17RzIJ"
   },
   "outputs": [],
   "source": [
    "def mape(pred:Tensor, targ:Tensor)->Rank0Tensor:\n",
    "    \"Exp MAPE between `pred` and `targ`.\"\n",
    "    pred,targ = flatten_check(pred,targ)\n",
    "    pct_var = torch.abs(targ - pred)/targ\n",
    "    return pct_var.mean()*100"
   ]
  },
  {
   "cell_type": "code",
   "execution_count": 0,
   "metadata": {
    "colab": {},
    "colab_type": "code",
    "id": "GkmOAekrcGn2"
   },
   "outputs": [],
   "source": [
    "def adj_accuracy(input:Tensor, targs:Tensor)->Rank0Tensor:\n",
    "    \"Compute accuracy with `targs` when `input` is bs * n_classes.\"\n",
    "    n = targs.shape[0]\n",
    "    input = input.argmax(dim=-1).view(n,-1)\n",
    "    targs = targs.view(n,-1)\n",
    "    return (input<=targs).float().mean()"
   ]
  },
  {
   "cell_type": "code",
   "execution_count": 0,
   "metadata": {
    "colab": {},
    "colab_type": "code",
    "id": "ehKH3sRcJNVs"
   },
   "outputs": [],
   "source": [
    "data = (TabularList.from_df(train, path=path, cat_names=cat_vars, cont_names=cont_vars, procs=procs,)\n",
    "                .split_by_idx(valid_idx)\n",
    "                .label_from_df(cols=dep_var)\n",
    "                .add_test(TabularList.from_df(test_df, path=path, cat_names=cat_vars, cont_names=cont_vars))\n",
    "                .databunch())"
   ]
  },
  {
   "cell_type": "code",
   "execution_count": 0,
   "metadata": {
    "colab": {},
    "colab_type": "code",
    "id": "6DHRuoP6SK3q"
   },
   "outputs": [],
   "source": [
    "learn = tabular_learner(data, layers=[1000,500], ps=[0.001,0.01], emb_drop=0.04,  metrics=[adj_accuracy, accuracy])"
   ]
  },
  {
   "cell_type": "code",
   "execution_count": 0,
   "metadata": {
    "colab": {
     "base_uri": "https://localhost:8080/",
     "height": 467
    },
    "colab_type": "code",
    "id": "vSokZeKUZKLC",
    "outputId": "07db4650-e190-47b2-fbba-a21dd3eb60dc"
   },
   "outputs": [
    {
     "data": {
      "text/plain": [
       "TabularModel(\n",
       "  (embeds): ModuleList(\n",
       "    (0): Embedding(25, 10)\n",
       "    (1): Embedding(4, 3)\n",
       "    (2): Embedding(535, 54)\n",
       "    (3): Embedding(4, 3)\n",
       "    (4): Embedding(13, 7)\n",
       "    (5): Embedding(52, 15)\n",
       "    (6): Embedding(32, 11)\n",
       "    (7): Embedding(8, 5)\n",
       "  )\n",
       "  (emb_drop): Dropout(p=0.04)\n",
       "  (bn_cont): BatchNorm1d(27, eps=1e-05, momentum=0.1, affine=True, track_running_stats=True)\n",
       "  (layers): Sequential(\n",
       "    (0): Linear(in_features=135, out_features=1000, bias=True)\n",
       "    (1): ReLU(inplace)\n",
       "    (2): BatchNorm1d(1000, eps=1e-05, momentum=0.1, affine=True, track_running_stats=True)\n",
       "    (3): Dropout(p=0.001)\n",
       "    (4): Linear(in_features=1000, out_features=500, bias=True)\n",
       "    (5): ReLU(inplace)\n",
       "    (6): BatchNorm1d(500, eps=1e-05, momentum=0.1, affine=True, track_running_stats=True)\n",
       "    (7): Dropout(p=0.01)\n",
       "    (8): Linear(in_features=500, out_features=5, bias=True)\n",
       "  )\n",
       ")"
      ]
     },
     "execution_count": 26,
     "metadata": {
      "tags": []
     },
     "output_type": "execute_result"
    }
   ],
   "source": [
    "learn.model"
   ]
  },
  {
   "cell_type": "code",
   "execution_count": 0,
   "metadata": {
    "colab": {},
    "colab_type": "code",
    "id": "Wt9Ac-b-7uSt"
   },
   "outputs": [],
   "source": [
    "learn.metrics=[accuracy, adj_accuracy]"
   ]
  },
  {
   "cell_type": "code",
   "execution_count": 0,
   "metadata": {
    "colab": {
     "base_uri": "https://localhost:8080/",
     "height": 80
    },
    "colab_type": "code",
    "id": "YpOgSbJ71rL5",
    "outputId": "f22288f2-4cd7-412b-e01d-2c99c5b8dfa4"
   },
   "outputs": [
    {
     "data": {
      "text/html": [
       "<table border=\"1\" class=\"dataframe\">\n",
       "  <thead>\n",
       "    <tr style=\"text-align: left;\">\n",
       "      <th>epoch</th>\n",
       "      <th>train_loss</th>\n",
       "      <th>valid_loss</th>\n",
       "      <th>accuracy</th>\n",
       "      <th>adj_accuracy</th>\n",
       "      <th>time</th>\n",
       "    </tr>\n",
       "  </thead>\n",
       "  <tbody>\n",
       "    <tr>\n",
       "      <td>0</td>\n",
       "      <td>0.901924</td>\n",
       "      <td>0.856521</td>\n",
       "      <td>0.623736</td>\n",
       "      <td>0.806091</td>\n",
       "      <td>13:22</td>\n",
       "    </tr>\n",
       "  </tbody>\n",
       "</table>"
      ],
      "text/plain": [
       "<IPython.core.display.HTML object>"
      ]
     },
     "metadata": {
      "tags": []
     },
     "output_type": "display_data"
    }
   ],
   "source": [
    "learn.fit_one_cycle(1, 1e-3)"
   ]
  },
  {
   "cell_type": "code",
   "execution_count": 32,
   "metadata": {
    "colab": {
     "base_uri": "https://localhost:8080/",
     "height": 80
    },
    "colab_type": "code",
    "id": "_86NAe6Z_CUJ",
    "outputId": "ab5f667c-4edc-4ec5-d3d0-bc75fe176c34"
   },
   "outputs": [
    {
     "data": {
      "text/html": [
       "<table border=\"1\" class=\"dataframe\">\n",
       "  <thead>\n",
       "    <tr style=\"text-align: left;\">\n",
       "      <th>epoch</th>\n",
       "      <th>train_loss</th>\n",
       "      <th>valid_loss</th>\n",
       "      <th>accuracy</th>\n",
       "      <th>adj_accuracy</th>\n",
       "      <th>time</th>\n",
       "    </tr>\n",
       "  </thead>\n",
       "  <tbody>\n",
       "    <tr>\n",
       "      <td>0</td>\n",
       "      <td>0.901291</td>\n",
       "      <td>0.860746</td>\n",
       "      <td>0.621584</td>\n",
       "      <td>0.811864</td>\n",
       "      <td>13:17</td>\n",
       "    </tr>\n",
       "  </tbody>\n",
       "</table>"
      ],
      "text/plain": [
       "<IPython.core.display.HTML object>"
      ]
     },
     "metadata": {
      "tags": []
     },
     "output_type": "display_data"
    }
   ],
   "source": [
    "learn.fit_one_cycle(1, 1e-4)"
   ]
  },
  {
   "cell_type": "code",
   "execution_count": 0,
   "metadata": {
    "colab": {},
    "colab_type": "code",
    "id": "AECfXsq7qEZJ"
   },
   "outputs": [],
   "source": [
    "learn.save(\"BANDWIDTH_TOTAL_Category-stage1\")"
   ]
  },
  {
   "cell_type": "code",
   "execution_count": 0,
   "metadata": {
    "colab": {},
    "colab_type": "code",
    "id": "C1pQg5fBZR9m"
   },
   "outputs": [],
   "source": [
    "dep_var2 = 'MAX_USER'\n",
    "data2 = (TabularList.from_df(train, path=path, cat_names=cat_vars, cont_names=cont_vars, procs=procs,)\n",
    "                .split_by_idx(valid_idx)\n",
    "                .label_from_df(cols=dep_var2, label_cls=FloatList, log=True)\n",
    "                .add_test(TabularList.from_df(test_df, path=path, cat_names=cat_vars, cont_names=cont_vars))\n",
    "                .databunch())\n",
    "\n",
    "\n",
    "max_log_y2 = np.log(np.max(train['MAX_USER'])*1.2)\n",
    "y_range2 = torch.tensor([0, max_log_y2], device=defaults.device)\n",
    "\n",
    "learn2 = tabular_learner(data2, layers=[1000,500], ps=[0.001,0.01], emb_drop=0.04, \n",
    "                        y_range=y_range2, metrics=exp_mape)\n",
    "\n",
    "\n"
   ]
  },
  {
   "cell_type": "code",
   "execution_count": 0,
   "metadata": {
    "colab": {},
    "colab_type": "code",
    "id": "U1_LqMQZo7OI"
   },
   "outputs": [],
   "source": [
    "data2.save(\"data-max-user\")"
   ]
  },
  {
   "cell_type": "code",
   "execution_count": 0,
   "metadata": {
    "colab": {},
    "colab_type": "code",
    "id": "3SgNXza9o_GE"
   },
   "outputs": [],
   "source": [
    "learn2.fit_one_cycle(1, 1e-3)"
   ]
  },
  {
   "cell_type": "code",
   "execution_count": 0,
   "metadata": {
    "colab": {},
    "colab_type": "code",
    "id": "A2EvF5qcuABQ"
   },
   "outputs": [],
   "source": [
    "learn2.save(\"MAX_USER-stage1\")"
   ]
  },
  {
   "cell_type": "code",
   "execution_count": 0,
   "metadata": {
    "colab": {},
    "colab_type": "code",
    "id": "lC4zrj5opBDX"
   },
   "outputs": [],
   "source": [
    "max_user_preds=learn2.get_preds(DatasetType.Test)"
   ]
  },
  {
   "cell_type": "code",
   "execution_count": 0,
   "metadata": {
    "colab": {},
    "colab_type": "code",
    "id": "7blbisKKsmz4"
   },
   "outputs": [],
   "source": [
    "bandwidth_total_preds = learn.get_preds(DatasetType.Test)"
   ]
  },
  {
   "cell_type": "code",
   "execution_count": 0,
   "metadata": {
    "colab": {},
    "colab_type": "code",
    "id": "2EGIdUOwuTmH"
   },
   "outputs": [],
   "source": [
    "bandwidth_total_preds"
   ]
  },
  {
   "cell_type": "code",
   "execution_count": 0,
   "metadata": {
    "colab": {},
    "colab_type": "code",
    "id": "6oWlPgTZuTHK"
   },
   "outputs": [],
   "source": [
    "probs = bandwidth_total_preds[0].numpy()"
   ]
  },
  {
   "cell_type": "code",
   "execution_count": 0,
   "metadata": {
    "colab": {},
    "colab_type": "code",
    "id": "uhiQBFkEuSjR"
   },
   "outputs": [],
   "source": [
    "test_df['BANDWIDTH_TOTAL'] = np.argmax(probs, axis = 1)"
   ]
  },
  {
   "cell_type": "code",
   "execution_count": 0,
   "metadata": {
    "colab": {},
    "colab_type": "code",
    "id": "VEtHaApPu6xa"
   },
   "outputs": [],
   "source": [
    "test_df['prob'] = np.max(probs, axis = 1)"
   ]
  },
  {
   "cell_type": "code",
   "execution_count": 0,
   "metadata": {
    "colab": {},
    "colab_type": "code",
    "id": "bivr4C32vTwq"
   },
   "outputs": [],
   "source": [
    "test_df.BANDWIDTH_TOTAL = test_df.BANDWIDTH_TOTAL.map(lambda i: optimals[int(i)])"
   ]
  },
  {
   "cell_type": "code",
   "execution_count": 0,
   "metadata": {
    "colab": {},
    "colab_type": "code",
    "id": "Pc1yfVV6KSfZ"
   },
   "outputs": [],
   "source": [
    "test_df['adj_bandwidth_total'] = test_df['BANDWIDTH_TOTAL']"
   ]
  },
  {
   "cell_type": "code",
   "execution_count": 0,
   "metadata": {
    "colab": {},
    "colab_type": "code",
    "id": "i4gq92hmLG-_"
   },
   "outputs": [],
   "source": [
    "def adj_bandwidth(value, prob):\n",
    "    if prob < 0.7:\n",
    "        return optimals[-1]\n",
    "    return value\n",
    "\n",
    "adj_bandwidth = np.vectorize(adj_bandwidth)"
   ]
  },
  {
   "cell_type": "code",
   "execution_count": 0,
   "metadata": {
    "colab": {},
    "colab_type": "code",
    "id": "EaXAFG8XLT9A"
   },
   "outputs": [],
   "source": [
    "test_df['adj_bandwidth_total']= adj_bandwidth(test_df['BANDWIDTH_TOTAL'], test_df['prob'])"
   ]
  },
  {
   "cell_type": "code",
   "execution_count": 0,
   "metadata": {
    "colab": {},
    "colab_type": "code",
    "id": "Q5a0Ro_wsxGu"
   },
   "outputs": [],
   "source": [
    "test_df['MAX_USER'] = (np.exp(max_user_preds[0].data).numpy()*51).T[0].astype(int)\n"
   ]
  },
  {
   "cell_type": "code",
   "execution_count": 0,
   "metadata": {
    "colab": {},
    "colab_type": "code",
    "id": "p4AYrweZtER8"
   },
   "outputs": [],
   "source": [
    "def convert_to_label(x1, x2):\n",
    "    return '{:.2f} {}'.format(x1, int(x2))\n",
    "\n",
    "convert_to_label = np.vectorize(convert_to_label)"
   ]
  },
  {
   "cell_type": "code",
   "execution_count": 0,
   "metadata": {
    "colab": {},
    "colab_type": "code",
    "id": "t_HwQ5qZtF8g"
   },
   "outputs": [],
   "source": [
    "test_df['label'] = convert_to_label(test_df.adj_bandwidth_total, test_df.MAX_USER)"
   ]
  },
  {
   "cell_type": "code",
   "execution_count": 0,
   "metadata": {
    "colab": {},
    "colab_type": "code",
    "id": "D4lrW4p0t-LD"
   },
   "outputs": [],
   "source": [
    "test_df[['id','label']].to_csv(path/'submission.csv', index = False)"
   ]
  },
  {
   "cell_type": "code",
   "execution_count": 0,
   "metadata": {
    "colab": {},
    "colab_type": "code",
    "id": "kSGHmF_guD1F"
   },
   "outputs": [],
   "source": [
    "test_df[test_df.prob>0.7].head(100)"
   ]
  },
  {
   "cell_type": "code",
   "execution_count": 0,
   "metadata": {
    "colab": {},
    "colab_type": "code",
    "id": "v6KtHYk11lmJ"
   },
   "outputs": [],
   "source": [
    "test_df.shape"
   ]
  },
  {
   "cell_type": "code",
   "execution_count": 0,
   "metadata": {
    "colab": {},
    "colab_type": "code",
    "id": "5atr1Pjr3Tfz"
   },
   "outputs": [],
   "source": [
    "test = pd.read_csv(path/'datasets/test_id.csv')"
   ]
  },
  {
   "cell_type": "code",
   "execution_count": 0,
   "metadata": {
    "colab": {},
    "colab_type": "code",
    "id": "ig4v0RPL4Ch_"
   },
   "outputs": [],
   "source": [
    "test.shape"
   ]
  },
  {
   "cell_type": "code",
   "execution_count": 0,
   "metadata": {
    "colab": {},
    "colab_type": "code",
    "id": "xNpx-_vG4DgX"
   },
   "outputs": [],
   "source": [
    "bandwidth_baseline = train.groupby(['SERVER_NAME']).BANDWIDTH_TOTAL.min().reset_index()\n",
    "max_user_baseline = train.groupby(['SERVER_NAME']).MAX_USER.min().reset_index()\n",
    "\n"
   ]
  },
  {
   "cell_type": "code",
   "execution_count": 0,
   "metadata": {
    "colab": {},
    "colab_type": "code",
    "id": "HCDiSuRrLwbJ"
   },
   "outputs": [],
   "source": [
    "test_baseline = pd.merge(test[['id','SERVER_NAME','ZONE_CODE','HOUR_ID','UPDATE_TIME']], bandwidth_baseline, on = ['SERVER_NAME'], how = 'left')"
   ]
  },
  {
   "cell_type": "code",
   "execution_count": 0,
   "metadata": {
    "colab": {},
    "colab_type": "code",
    "id": "lWM_Hfh8MWjK"
   },
   "outputs": [],
   "source": [
    "test_baseline = pd.merge(test_baseline, max_user_baseline, on = ['SERVER_NAME'], how = 'left')"
   ]
  },
  {
   "cell_type": "code",
   "execution_count": 0,
   "metadata": {
    "colab": {},
    "colab_type": "code",
    "id": "xB1tzWW6uBnf"
   },
   "outputs": [],
   "source": [
    "test_baseline.fillna(0, inplace = True)"
   ]
  },
  {
   "cell_type": "code",
   "execution_count": 0,
   "metadata": {
    "colab": {},
    "colab_type": "code",
    "id": "EjTUoigNMX7O"
   },
   "outputs": [],
   "source": [
    "test_baseline['label'] = convert_to_label(test_baseline.BANDWIDTH_TOTAL, test_baseline.MAX_USER)"
   ]
  },
  {
   "cell_type": "code",
   "execution_count": 0,
   "metadata": {
    "colab": {},
    "colab_type": "code",
    "id": "0StGqDsHNtg5"
   },
   "outputs": [],
   "source": [
    "train[train.SERVER_NAME=='SERVER_ZONE03_057']"
   ]
  },
  {
   "cell_type": "code",
   "execution_count": 0,
   "metadata": {
    "colab": {},
    "colab_type": "code",
    "id": "kAlsNpMLHvQO"
   },
   "outputs": [],
   "source": []
  },
  {
   "cell_type": "code",
   "execution_count": 0,
   "metadata": {
    "colab": {},
    "colab_type": "code",
    "id": "3ulwYfQOMmkL"
   },
   "outputs": [],
   "source": [
    "test_baseline[['id','label']].to_csv(path/'submission.csv', index = False)"
   ]
  },
  {
   "cell_type": "code",
   "execution_count": 0,
   "metadata": {
    "colab": {},
    "colab_type": "code",
    "id": "4eBVFvPhMqKJ"
   },
   "outputs": [],
   "source": [
    "temp = pd.merge(test_df, test_baseline, on = 'id')"
   ]
  },
  {
   "cell_type": "code",
   "execution_count": 0,
   "metadata": {
    "colab": {},
    "colab_type": "code",
    "id": "qE6y25Wki1qx"
   },
   "outputs": [],
   "source": [
    "temp['diff'] = np.abs(temp.BANDWIDTH_TOTAL_x - temp.BANDWIDTH_TOTAL_y)/temp.BANDWIDTH_TOTAL_y*100"
   ]
  },
  {
   "cell_type": "code",
   "execution_count": 0,
   "metadata": {
    "colab": {},
    "colab_type": "code",
    "id": "dnB74lI7Njvk"
   },
   "outputs": [],
   "source": [
    "temp[temp.BANDWIDTH_TOTAL_y != 0]['diff'].mean()"
   ]
  },
  {
   "cell_type": "code",
   "execution_count": 0,
   "metadata": {
    "colab": {},
    "colab_type": "code",
    "id": "qUOIczaHkwSc"
   },
   "outputs": [],
   "source": [
    "train_df = train.iloc[:cut_idx]"
   ]
  },
  {
   "cell_type": "code",
   "execution_count": 0,
   "metadata": {
    "colab": {},
    "colab_type": "code",
    "id": "C82iBsDgmgHJ"
   },
   "outputs": [],
   "source": [
    "valid_df = train.iloc[cut_idx:]"
   ]
  },
  {
   "cell_type": "code",
   "execution_count": 0,
   "metadata": {
    "colab": {},
    "colab_type": "code",
    "id": "B3YKQDlwmj3Z"
   },
   "outputs": [],
   "source": [
    "bandwidth_baseline = train_df.groupby(['SERVER_NAME','HOUR_ID']).BANDWIDTH_TOTAL.min().reset_index()\n",
    "max_user_baseline = train_df.groupby(['SERVER_NAME','HOUR_ID']).MAX_USER.min().reset_index()\n",
    "\n",
    "valid_baseline = pd.merge(valid_df[['SERVER_NAME','ZONE_CODE','HOUR_ID','UPDATE_TIME','BANDWIDTH_TOTAL','MAX_USER']], bandwidth_baseline, on = ['SERVER_NAME','HOUR_ID'], how = 'left')\n",
    "valid_baseline = pd.merge(valid_baseline, max_user_baseline, on = ['SERVER_NAME','HOUR_ID'], how = 'left')\n",
    "\n",
    "\n"
   ]
  },
  {
   "cell_type": "code",
   "execution_count": 0,
   "metadata": {
    "colab": {},
    "colab_type": "code",
    "id": "h-F_LxWVncTA"
   },
   "outputs": [],
   "source": [
    "valid_baseline.head()"
   ]
  },
  {
   "cell_type": "code",
   "execution_count": 0,
   "metadata": {
    "colab": {},
    "colab_type": "code",
    "id": "awZiH4jbneA1"
   },
   "outputs": [],
   "source": [
    "small_mape = valid_baseline[valid_baseline.BANDWIDTH_TOTAL_y > 350]\n",
    "\n",
    "np.mean(np.abs(small_mape['BANDWIDTH_TOTAL_y'] -small_mape['BANDWIDTH_TOTAL_x'])/small_mape['BANDWIDTH_TOTAL_x'])"
   ]
  },
  {
   "cell_type": "code",
   "execution_count": 0,
   "metadata": {
    "colab": {},
    "colab_type": "code",
    "id": "isR6ejEp3nde"
   },
   "outputs": [],
   "source": [
    "iplot(train[train.SERVER_NAME == 'SERVER_ZONE01_106'].groupby(\"UPDATE_TIME\").BANDWIDTH_TOTAL.sum().iplot(asFigure = True))"
   ]
  },
  {
   "cell_type": "code",
   "execution_count": 0,
   "metadata": {
    "colab": {},
    "colab_type": "code",
    "id": "8k3o4r3TzRMl"
   },
   "outputs": [],
   "source": [
    "set(train.SERVER_NAME).difference(test_df.SERVER_NAME)"
   ]
  },
  {
   "cell_type": "code",
   "execution_count": 0,
   "metadata": {
    "colab": {},
    "colab_type": "code",
    "id": "_s-N_jC82N6L"
   },
   "outputs": [],
   "source": [
    "set(test_df.SERVER_NAME).difference(train.SERVER_NAME)"
   ]
  },
  {
   "cell_type": "code",
   "execution_count": 0,
   "metadata": {
    "colab": {},
    "colab_type": "code",
    "id": "J6id9uDWo0_D"
   },
   "outputs": [],
   "source": [
    "set(train.SERVER_NAME.value_counts())"
   ]
  },
  {
   "cell_type": "code",
   "execution_count": 0,
   "metadata": {
    "colab": {},
    "colab_type": "code",
    "id": "sQR8UO0z0I9p"
   },
   "outputs": [],
   "source": []
  },
  {
   "cell_type": "code",
   "execution_count": 0,
   "metadata": {
    "colab": {},
    "colab_type": "code",
    "id": "GXc4TsLno4ZS"
   },
   "outputs": [],
   "source": [
    "(valid_baseline.BANDWIDTH_TOTAL_y < 20).sum()"
   ]
  },
  {
   "cell_type": "code",
   "execution_count": 0,
   "metadata": {
    "colab": {},
    "colab_type": "code",
    "id": "MgHf5QEzo8ln"
   },
   "outputs": [],
   "source": [
    "(180038*1 + 370749*0.8905040575809736)/(370749+180038)"
   ]
  },
  {
   "cell_type": "code",
   "execution_count": 0,
   "metadata": {
    "colab": {},
    "colab_type": "code",
    "id": "bchAuzSDofL7"
   },
   "outputs": [],
   "source": [
    "small_mape = valid_baseline[valid_baseline.BANDWIDTH_TOTAL_y > 20]\n",
    "\n",
    "np.mean(np.abs(small_mape['BANDWIDTH_TOTAL_y'] -small_mape['BANDWIDTH_TOTAL_x'] )/small_mape['BANDWIDTH_TOTAL_x'])"
   ]
  },
  {
   "cell_type": "code",
   "execution_count": 0,
   "metadata": {
    "colab": {},
    "colab_type": "code",
    "id": "rwW-XfcJocrS"
   },
   "outputs": [],
   "source": []
  },
  {
   "cell_type": "code",
   "execution_count": 0,
   "metadata": {
    "colab": {},
    "colab_type": "code",
    "id": "iZI6ch8vm456"
   },
   "outputs": [],
   "source": [
    "bandwidth_baseline = train_df.groupby(['SERVER_NAME','HOUR_ID']).BANDWIDTH_TOTAL.median().reset_index()\n",
    "max_user_baseline = train_df.groupby(['SERVER_NAME','HOUR_ID']).MAX_USER.median().reset_index()\n",
    "\n",
    "valid_baseline = pd.merge(valid_df[['SERVER_NAME','ZONE_CODE','HOUR_ID','UPDATE_TIME','BANDWIDTH_TOTAL','MAX_USER']], bandwidth_baseline, on = ['SERVER_NAME','HOUR_ID'], how = 'left')"
   ]
  },
  {
   "cell_type": "code",
   "execution_count": 0,
   "metadata": {
    "colab": {},
    "colab_type": "code",
    "id": "Y-ouy2nTm-qi"
   },
   "outputs": [],
   "source": [
    "\n",
    "valid_baseline.head()"
   ]
  },
  {
   "cell_type": "code",
   "execution_count": 0,
   "metadata": {
    "colab": {},
    "colab_type": "code",
    "id": "Z0esLWOXnZWu"
   },
   "outputs": [],
   "source": []
  },
  {
   "cell_type": "code",
   "execution_count": 0,
   "metadata": {
    "colab": {},
    "colab_type": "code",
    "id": "yLMCF3MenQU7"
   },
   "outputs": [],
   "source": []
  },
  {
   "cell_type": "code",
   "execution_count": 0,
   "metadata": {
    "colab": {},
    "colab_type": "code",
    "id": "tIkV4l2Im3pe"
   },
   "outputs": [],
   "source": []
  }
 ],
 "metadata": {
  "accelerator": "GPU",
  "colab": {
   "collapsed_sections": [],
   "name": "Copy of Copy of AIVIVN_Timeseries.ipynb",
   "provenance": [],
   "version": "0.3.2"
  },
  "kernelspec": {
   "display_name": "Python 3",
   "language": "python",
   "name": "python3"
  },
  "language_info": {
   "codemirror_mode": {
    "name": "ipython",
    "version": 3
   },
   "file_extension": ".py",
   "mimetype": "text/x-python",
   "name": "python",
   "nbconvert_exporter": "python",
   "pygments_lexer": "ipython3",
   "version": "3.7.1"
  },
  "toc": {
   "base_numbering": 1,
   "nav_menu": {},
   "number_sections": true,
   "sideBar": true,
   "skip_h1_title": false,
   "title_cell": "Table of Contents",
   "title_sidebar": "Contents",
   "toc_cell": false,
   "toc_position": {},
   "toc_section_display": true,
   "toc_window_display": false
  }
 },
 "nbformat": 4,
 "nbformat_minor": 1
}
